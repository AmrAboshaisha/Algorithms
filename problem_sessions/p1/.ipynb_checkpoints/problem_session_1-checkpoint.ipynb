{
 "cells": [
  {
   "cell_type": "markdown",
   "id": "8ac10189",
   "metadata": {},
   "source": [
    "**Problem 1-2**.\n",
    "\n",
    "Given a data structure D supporting the four first/last sequence operations:\n",
    "D.insert first(x), D.delete first(), D.insert last(x), D.delete last(),\n",
    "each in O(1) time, describe algorithms to implement the following higher-level operations in terms of the lower-level operations. Recall that delete operations return the deleted item. \n",
    "\n",
    "(a) swap ends(D): Swap the first and last items in the sequence in D in O(1) time.\n",
    "\n",
    "(b) shift left(D, k): Move the first k items in order to the end of the sequence n D in O(k) time. (After, the kth item should be last and the (k + 1)st item should be first.)"
   ]
  },
  {
   "cell_type": "markdown",
   "id": "93d55286",
   "metadata": {},
   "source": [
    "**Ans**:\n",
    "\n",
    "(a) This is a simple problem: \n",
    "\n",
    "tmp_last = del(first)\n",
    "tmp_first = del(last)\n",
    "\n",
    "insert_first(tmp_first)\n",
    "insert_last(tmp_last)\n",
    "\n",
    "\n",
    "(b)\n",
    "\n",
    "// for each item i 0 -> k:\n",
    "    // insert(delete_first(i))"
   ]
  },
  {
   "cell_type": "markdown",
   "id": "8dee7164",
   "metadata": {},
   "source": [
    "**Problem 1-3.** Double-Ended Sequence Operations\n",
    "\n",
    "\n",
    "A dynamic array can implement a Sequence interface supporting worst-case O(1)-time indexing as well as insertion and removal of items at the back of the array in amortized constant time. However, insertion and deletion at the front of a dynamic array are not efficient as every entry must be shifted to maintain the sequential order of entries, taking linear time.\n",
    "\n",
    "On the other hand, a linked-list data structure can be made to support insertion and removal oper- ations at both ends in worst-case O(1) time (see PS1), but at the expense of linear-time indexing.\n",
    "\n",
    "Show that we can have the best of both worlds: design a data structure to store a sequence of items that supports worst-case O(1)-time index lookup, as well as amortized O(1)-time insertion and removal at both ends. Your data structure should use O(n) space to store n items."
   ]
  },
  {
   "cell_type": "markdown",
   "id": "24840bbb",
   "metadata": {},
   "source": []
  },
  {
   "cell_type": "markdown",
   "id": "778aeb94",
   "metadata": {},
   "source": [
    "**Problem 1-4.** Jen & Berry’s\n",
    "\n",
    "\n",
    "Jen drives her ice cream truck to her local elementary school at recess. All the kids rush to line up in front of her truck. Jen is overwhelmed with the number of students (there are 2n of them), so she calls up her associate, Berry, to bring his ice cream truck to help her out. Berry soon arrives and parks at the other end of the line of students. He offers to sell to the last student in line, but the other students revolt in protest: “The last student was last! This is unfair!”\n",
    "The students decide that the fairest way to remedy the situation would be to have the back half of the line (the n kids furthest from Jen) reverse their order and queue up at Berry’s truck, so that the last kid in the original line becomes the last kid in Berry’s line, with the (n + 1)st kid in the original line becoming Berry’s first customer.\n",
    "\n",
    "\n",
    "(a) Given a linked list containing the names of the 2n kids,in order of the original line formed in front of Jen’s truck (where the first node contains the name of the first kid in line), describe an O(n)-time algorithm to modify the linked list to reverse the order of the last half of the list. Your algorithm should not make any new linked list nodes or instantiate any new non-constant-sized data structures during its operation.\n",
    "\n",
    "(b) Write a Python function reorder students(L) that implements your algorithm.\n"
   ]
  },
  {
   "cell_type": "code",
   "execution_count": null,
   "id": "869c54ee",
   "metadata": {},
   "outputs": [],
   "source": []
  }
 ],
 "metadata": {
  "kernelspec": {
   "display_name": "Python 3 (ipykernel)",
   "language": "python",
   "name": "python3"
  },
  "language_info": {
   "codemirror_mode": {
    "name": "ipython",
    "version": 3
   },
   "file_extension": ".py",
   "mimetype": "text/x-python",
   "name": "python",
   "nbconvert_exporter": "python",
   "pygments_lexer": "ipython3",
   "version": "3.8.8"
  }
 },
 "nbformat": 4,
 "nbformat_minor": 5
}
