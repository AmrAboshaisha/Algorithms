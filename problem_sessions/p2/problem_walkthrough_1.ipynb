{
 "cells": [
  {
   "cell_type": "markdown",
   "id": "55affd77",
   "metadata": {},
   "source": [
    "### Problem Session 2: "
   ]
  },
  {
   "cell_type": "markdown",
   "id": "8ee349ee",
   "metadata": {},
   "source": [
    "*This is a write up for the thinking process demonstrated in the lecture for how to solve a problem.*"
   ]
  },
  {
   "cell_type": "markdown",
   "id": "29733951",
   "metadata": {},
   "source": [
    "#### Problem 1-4. Brick Blowing "
   ]
  },
  {
   "cell_type": "markdown",
   "id": "4afa48ee",
   "metadata": {},
   "source": [
    "<span style=\"color:blue\"> Porkland is a community of pigs who live in n houses lined up along one side of a long, straight street running east to west. Every house in Porkland was built from straw and bricks, but some houses were built with more bricks than others. One day, a wolf arrives in Porkland and all the pigs run inside their homes to hide. Unfortunately for the pigs, this wolf is extremely skilled at blowing down pig houses, aided by a strong wind already blowing from west to east. If the wolf blows in an easterly direction on a house containing b bricks, that house will fall down, along with every house east of it containing strictly fewer than b bricks. For every house in Porkland, the wolf wants to know its damage, i.e., the number of houses that would fall were he to blow on it in an easterly direction. </span>"
   ]
  },
  {
   "cell_type": "markdown",
   "id": "f6bd0e36",
   "metadata": {},
   "source": [
    "This problem is written in an un-necessarily complex language. The first step to solving it is to try to understand it and abstract away what it's asking us to do. **(Understand then abstract)**\n",
    "\n",
    "When breaking it down:\n",
    "\n",
    "- Houses are laid next to one another. We could think of each house as a cell in an array / items in a list.\n",
    "- Houses could have different numbers of \"bricks\". \n",
    "- The wolf will blow in the directon of wind, so this wind idea is unnecessary. The only info we get here is the blowing West to East which we could encode as Left to Right.\n",
    "- If the wolf blows on one house, this and all houses which have num bricks < it will fall. This translates to : this cell and all cells after it (to the right of it) which are < it.\n"
   ]
  },
  {
   "cell_type": "markdown",
   "id": "47bc8936",
   "metadata": {},
   "source": [
    "<span style=\"color:blue\">(a)  Suppose n=10 and the number of bricks in each house in Porkland from west to east is [34, 57, 70, 19, 48, 2, 94, 7, 63, 75]. Compute for this instance the damage for every house in Porkland.</span>"
   ]
  },
  {
   "cell_type": "markdown",
   "id": "eed12d77",
   "metadata": {},
   "source": [
    "**Apply to an example**\n",
    "Luckily we have this example to walk through. We don't need to do all of it for understanding the problem, but let's do some:\n",
    "\n",
    "\n",
    "\n",
    "|34\t|57\t|70\t|19\t|48\t|2\t|   |\n",
    "|---|---|---|---|---|---|---|\n",
    "|x\t|\t|x  |\t|\t|x\t|3  |\n",
    "|\t|x\t|   |x\t|x\t|x\t|4  |\n",
    "|\t|\t|x  |x\t|x\t|x\t|4  |\n",
    "\n",
    "\n",
    "This problem is asking us to produce these kinds of tables.\n",
    "\n",
    "So, we can see: it's just a matter of cheking each number in an array and finding all the numbers < it in the remaining cells after it."
   ]
  },
  {
   "cell_type": "markdown",
   "id": "db5b5edf",
   "metadata": {},
   "source": [
    "<span style=\"color:blue\">(b)  A house in Porkland is special if it either (1) has no easterly neighbor or (2) its adjacent neighbor to the east contains at least as many bricks as it does. Given an array containing the number of bricks in each house of Porkland, describe an O(n)-time algorithm to return the damage for every house in Porkland when all but one house in Porkland is special.</span>"
   ]
  },
  {
   "cell_type": "markdown",
   "id": "ef2e716d",
   "metadata": {},
   "source": [
    "Again, there is a need for translation: **(Understand then abstract)**\n",
    "\n",
    "1. Has no easterly neighbour: this is the last cell.\n",
    "2. Its adjacent neighbor to the east contains at least as many bricks as it does: cell to the right of our cuurent cell is >= it.\n",
    "3. when all but one house in Porkland is special: if all houses are special except one (and this one can't be the last cell since it's special by definition), then we get: \n",
    "- The not special house is in middle of array somewhere (at any index from 0 -> n-2)\n",
    "- Everything before the non-special house is in increasing order\n",
    "- Everything after the non-special house is in increasing order\n",
    "\n",
    "So, we have an array that is split into two parts which are in increasing order."
   ]
  },
  {
   "cell_type": "markdown",
   "id": "8196c90d",
   "metadata": {},
   "source": [
    "**Apply to an example**\n",
    "\n",
    "Now we got the abstraction, let's apply to the example we have above:\n",
    "\n",
    "**34**, **57**, 70, **19**, 48, **2** (the bold houses are special).\n",
    "\n",
    "\n",
    "Now, let's come up with an example where all but one is special: (Bold is non-special)\n",
    "\n",
    "1 2 3 **4** | 1 2 3"
   ]
  },
  {
   "cell_type": "markdown",
   "id": "6a622a23",
   "metadata": {},
   "source": [
    "How can we find out the damage for each house in such a case.\n",
    "\n",
    "We can easily do so using 2 for loops, going through each item then comparing it to all the next items to see if they are smaller. But, this gives us O(n<sup>2</sup>) solution. We need O(n). How can we do it?\n",
    "\n",
    "Well, the 2 for loops solutions did not **make use of the information we have at hand.** Let's think what we know:\n",
    "\n",
    "We know we an array of 2 parts, each part is in increasing order, so:\n",
    "- For each number in the 2nd half, it can only result in damage of 1 if it gets blown at (all that comes after it is > than it).\n",
    "- For each number in the first half of the array, it can only be > numbers in the 2nd half. \n",
    "\n",
    "So, again, this can be solved with 2 nested for loops, but again this is  O(n<sup>2</sup>)."
   ]
  },
  {
   "cell_type": "markdown",
   "id": "8fb92484",
   "metadata": {},
   "source": [
    "What else can we observe to make our solution O(n)?\n",
    "\n",
    "We know both parts of the array are increasing. As we move from left to right in the first part, the number of bricks in the first half increases & the number of houses than can be blown in the 2nd half, can only increase. If we take the example above, anything in the 2nd half that 1 can blow will become a subset of what 2 can blow, and 2 subset of 3 and so on. If we have a method somehow of keeping track of what got blown as we move on, we can save ourelves the trouble of using a 2nd loop."
   ]
  },
  {
   "cell_type": "markdown",
   "id": "cd45126f",
   "metadata": {},
   "source": [
    "Does that get us any closer to the solution? \n",
    "\n",
    "Well, let's see our first step: we will need at least 2 indices i, j: one to run over each half of the array. \n",
    "\n",
    "i can take values: 0, 1, 2, 3\n",
    "\n",
    "j can take values: 4, 5, 6\n",
    "\n",
    "But, how can we keep track of the number of items that was blown so far? Can we use the indices themselves?\n",
    "\n",
    "Suppose j could be 1, 2, 3. This means if we're at j = 1 we know one item was blown and same at 2 and so on. \n",
    "\n",
    "Now, think of the 2 pointers / fingers: \n",
    "\n",
    "We conside the 2 parts of the array to be A & B. \n",
    "\n",
    "index i starts at 0 , index j starts at 1. Now compare A[i] and B[j]. \n",
    "\n",
    "If A[i] > A[j]\n",
    "\n",
    "    - Add j to the damages of A[i]\n",
    "    - Move j to next and repeat \n",
    "\n",
    "Otherwise\n",
    "    Move i to next and repeat"
   ]
  },
  {
   "cell_type": "markdown",
   "id": "51ed452e",
   "metadata": {},
   "source": [
    "<span style=\"color:blue\">(c)  Given an array containing the number of bricks in each house of Porkland, describe an O(n log n)-time algorithm to return the damage for every house in Porkland.</span>"
   ]
  },
  {
   "cell_type": "markdown",
   "id": "b4ebdb97",
   "metadata": {},
   "source": [
    "<span style=\"color:blue\">(d)  Write a Python function get damages that implements your algorithm. </span>"
   ]
  }
 ],
 "metadata": {
  "kernelspec": {
   "display_name": "Python 3 (ipykernel)",
   "language": "python",
   "name": "python3"
  },
  "language_info": {
   "codemirror_mode": {
    "name": "ipython",
    "version": 3
   },
   "file_extension": ".py",
   "mimetype": "text/x-python",
   "name": "python",
   "nbconvert_exporter": "python",
   "pygments_lexer": "ipython3",
   "version": "3.8.8"
  }
 },
 "nbformat": 4,
 "nbformat_minor": 5
}
