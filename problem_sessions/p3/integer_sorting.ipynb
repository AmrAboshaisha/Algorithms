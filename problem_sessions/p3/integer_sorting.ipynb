{
 "cells": [
  {
   "attachments": {},
   "cell_type": "markdown",
   "metadata": {},
   "source": [
    "Sorting integers:\n",
    "\n",
    "Suppose our keys are unique positive integers in range <= n\n",
    "\n",
    "Idea 1: Direct access array sort\n",
    "\n",
    "Intuition: Since arrays use int indices: \n",
    "\n",
    "``` \n",
    "Loop through items in your int list\n",
    "Place each item in array via its index\n",
    "Loop through the arrar to print sequence in order\n",
    "\n",
    "```"
   ]
  },
  {
   "cell_type": "code",
   "execution_count": 3,
   "metadata": {},
   "outputs": [],
   "source": [
    "l = [5, 2, 7, 0, 4]"
   ]
  },
  {
   "cell_type": "code",
   "execution_count": 4,
   "metadata": {},
   "outputs": [],
   "source": [
    "def direct_access_sort(arr):\n",
    "    # find max key in sequence\n",
    "    max_key = max(arr)\n",
    "    # create empty results array\n",
    "    D = (1 + max_key) * [None] # O(len(arr))\n",
    "    \n",
    "    for i in arr:\n",
    "        D[i] = i\n",
    "    \n",
    "    sorted = []\n",
    "    for i in D:\n",
    "        if(i != None):\n",
    "            sorted.append(i) \n",
    "    return sorted\n"
   ]
  },
  {
   "cell_type": "code",
   "execution_count": 5,
   "metadata": {},
   "outputs": [
    {
     "name": "stdout",
     "output_type": "stream",
     "text": [
      "[0, 2, 4, 5, 7]\n"
     ]
    }
   ],
   "source": [
    "print(direct_access_sort(l))"
   ]
  },
  {
   "attachments": {},
   "cell_type": "markdown",
   "metadata": {},
   "source": [
    "Now, suppose integers are NOT unique\n",
    "\n",
    "Then, we can store the non-unique keys in a chain (as we do in hashing). We need our algorithms to preserver the order in which it saw the items."
   ]
  },
  {
   "cell_type": "code",
   "execution_count": 6,
   "metadata": {},
   "outputs": [],
   "source": [
    "l1 = [5, 2,  5, 7, 5, 0, 7, 2, 4]"
   ]
  },
  {
   "cell_type": "markdown",
   "metadata": {},
   "source": [
    "What if we have large keys, eg: u <= n^2??\n",
    "\n",
    "Then we can break down the large key into many smaller ones (in a tuple)\n",
    "\n",
    "Then sort them lexicographically (**like Dictionary but R to L**):\n",
    "> Sort by least important key then next lest important\n",
    "\n",
    "Example : let's sort [32, 03, 44, 42, 22]\n",
    "\n",
    "Least important key first : that is the units digit\n",
    "> We get: 32, 42, 22, 03, 44\n",
    "\n",
    "Then more important key: that is the Tens digit\n",
    "> We get: 03, 22, 32, 42, 44\n",
    "\n",
    "Done, it's sorted.\n",
    "\n",
    "Notice: in the above we're treating each digit separately. This means another representation of these numbers is ((3,2), (0,3), (4,4), (4,2), (2,2)). That's why this algorithm can be called Tuple Sort.\n"
   ]
  },
  {
   "attachments": {},
   "cell_type": "markdown",
   "metadata": {},
   "source": [
    "How can we do this with large numbers? \n",
    "\n",
    "We need to convert these numbers to smaller numbers. \n",
    "\n",
    "Large numbers are defined as u < n^2\n",
    "\n",
    "Idea: Convert them to numbers in base n"
   ]
  },
  {
   "attachments": {},
   "cell_type": "markdown",
   "metadata": {},
   "source": [
    "##### Converting numbers from one base to another:\n",
    "\n",
    "Consider base 10 (our Decimal system)\n",
    "\n",
    "0--------10--------20--------30--------40....\n",
    "\n",
    "-----------11\n",
    "\n",
    "to get to 11:\n",
    "- u jump from 0 to 10\n",
    "- take 1 step from 10 to 11\n",
    "\n",
    "\n",
    "Conside an Octal system:\n",
    "\n",
    "0-------8-------16-------24-------32.....\n",
    "\n",
    "if u jump from 0 to 8 then take 3 steps, you arrive at you will arrive at what is 11 in Decimal but here it will be 13\n",
    "\n",
    "\n",
    "How can we convert from Octal to Decimal?\n",
    "\n",
    "Q: Convert 11 from Decimal to Octal\n",
    "\n",
    "A:\n",
    "- Find out how many jumps of size 8 u hae to do: 11 // 8 = 1\n",
    "- Find out how many steps after u jumped (remainder): 11 mod 8 = 3\n",
    "\n",
    "So, 13 Octal is 11 decimal\n",
    "\n",
    "That means, if we get (1,3) to make up 11 : 1 * 8 + 3 = 11\n",
    "\n",
    "ie: k = a * n + b\n",
    "\n",
    "\n",
    "To convert from Decimal to base n:\n",
    "```\n",
    "Find how many jumps of size n : num // n\n",
    "Find remainder steps after jump: num mod n\n",
    "```\n",
    "\n",
    "In Python, this is the function (a,b) = divmod(k, n) // gives us k in base n\n",
    "\n",
    "Now, consider this: suppose we want to convert 93 to base 8 using this procedure:\n",
    "\n",
    "93 // 8 = 11\n",
    "\n",
    "93 mod 8 = 5\n",
    "\n",
    "Now, does that mean that our Octal representation of 93 is 115??\n",
    "\n",
    "That would be wrong since in base 8 we're only allowed numbers 0 to 7. The 115 would be like wanting to put 11 in the tens digit in Decimal. Obviously, what we do in decimal if we're in that situation is we move to the next significant digit (the hundreds). \n",
    "\n",
    "In our example here, it just means we need to use bigger jumps. Next to 8 is jumps of 16. So, we take 11 and repeat the process above \n",
    "\n",
    "\n",
    "11 / 8 = 1\n",
    "\n",
    "11 mod 8 = 3 -> this is the next least significant digit\n",
    "\n",
    "We're left with 1 which we could represent in Octal so we're done.\n",
    "\n",
    "Now we have 135\n",
    "\n",
    "When do we stop (in code)? \n",
    "\n",
    "After our last step above, if we take 1 / 8 we get 0. This is our stopping point.\n",
    "\n",
    "\n",
    "Now, our algorithm becomes:\n",
    "\n",
    "```\n",
    "While the most significant digit a != 0:\n",
    "    Get the most significant digit : a = num // n\n",
    "    Get the least significant digit : b = num mod n\n",
    "    Add b to your list\n",
    "```"
   ]
  },
  {
   "cell_type": "code",
   "execution_count": 65,
   "metadata": {},
   "outputs": [],
   "source": [
    "''' We need a procedure for base conversion'''\n",
    "\n",
    "def convert_base(k, base, c):\n",
    "    # b will be the least significant digit. Our numbers are like k = a*base + b\n",
    "    # c will decide how many significant digits we want represented. This will \n",
    "    # depend on what is the maximum number we have in the array later\n",
    "    digits = []\n",
    "    a = k\n",
    "    for _ in range(c):\n",
    "        a, b = divmod(a, base)\n",
    "        digits.append(b)\n",
    "    return digits"
   ]
  },
  {
   "cell_type": "code",
   "execution_count": 67,
   "metadata": {},
   "outputs": [
    {
     "data": {
      "text/plain": [
       "[5, 3, 1]"
      ]
     },
     "execution_count": 67,
     "metadata": {},
     "output_type": "execute_result"
    }
   ],
   "source": [
    "convert_base(93,8,3)"
   ]
  },
  {
   "cell_type": "code",
   "execution_count": 104,
   "metadata": {},
   "outputs": [],
   "source": [
    "class Obj:\n",
    "    def __init__(self):\n",
    "        self.item = None\n",
    "        self.digits = None\n",
    "    def __str__(self):\n",
    "        return self.item"
   ]
  },
  {
   "cell_type": "code",
   "execution_count": 105,
   "metadata": {},
   "outputs": [],
   "source": [
    "def create_number(k, base,c = 0):\n",
    "    number = Obj()\n",
    "    number.item = k\n",
    "    number.digits = convert_base(k,base,c) \n",
    "    \n",
    "    return number"
   ]
  },
  {
   "cell_type": "code",
   "execution_count": 106,
   "metadata": {},
   "outputs": [
    {
     "data": {
      "text/plain": [
       "[1, 4, 2, 3, 0]"
      ]
     },
     "execution_count": 106,
     "metadata": {},
     "output_type": "execute_result"
    }
   ],
   "source": [
    "n = create_number(100001,8,5)\n",
    "n.digits"
   ]
  },
  {
   "cell_type": "code",
   "execution_count": 156,
   "metadata": {},
   "outputs": [],
   "source": [
    "def count_sort(A, digit):\n",
    "    #for each digit in the item's\n",
    "    # find the maximum digit of all items\n",
    "    u = 1 + max([n.digits[digit] for n in A])\n",
    "    sorting_array = [[] for _ in range(u)]\n",
    "\n",
    "    for a in A:\n",
    "        sorting_array[a.digits[digit]].append(a)\n",
    "\n",
    "    r = []\n",
    "\n",
    "    for sublist in sorting_array:\n",
    "        for item in sublist:\n",
    "            r.append(item)\n",
    "    \n",
    "    return r"
   ]
  },
  {
   "cell_type": "code",
   "execution_count": 152,
   "metadata": {},
   "outputs": [],
   "source": [
    "l1 = []\n",
    "for i in [17, 3, 24, 22, 12]:\n",
    "    l1.append(create_number(i,5,2))"
   ]
  },
  {
   "cell_type": "code",
   "execution_count": 153,
   "metadata": {},
   "outputs": [
    {
     "name": "stdout",
     "output_type": "stream",
     "text": [
      "[2, 3]\n",
      "[3, 0]\n",
      "[4, 4]\n",
      "[2, 4]\n",
      "[2, 2]\n"
     ]
    }
   ],
   "source": [
    "for i in l1:\n",
    "    print(i.digits)"
   ]
  },
  {
   "cell_type": "code",
   "execution_count": 154,
   "metadata": {},
   "outputs": [],
   "source": [
    "r = count_sort(l1,0)"
   ]
  },
  {
   "cell_type": "code",
   "execution_count": 155,
   "metadata": {},
   "outputs": [
    {
     "name": "stdout",
     "output_type": "stream",
     "text": [
      "17\n",
      "22\n",
      "12\n",
      "3\n",
      "24\n"
     ]
    }
   ],
   "source": [
    "for i in r:\n",
    "    print(i.item)"
   ]
  },
  {
   "attachments": {},
   "cell_type": "markdown",
   "metadata": {},
   "source": [
    "Now, we can combine all this to make our algorithm which will:\n",
    "- Take a list of numbers\n",
    "- Convert them to base n\n",
    "- Tuple sort them from least to most significant digit"
   ]
  },
  {
   "cell_type": "code",
   "execution_count": 177,
   "metadata": {},
   "outputs": [],
   "source": [
    "def radix_sort(A):\n",
    "    # A is a list of numbers. Convert them to number objects with lists of digits\n",
    "    n = len(A)\n",
    "    u = 1 + max([x for x in A])\n",
    "    c = 1 + (u.bit_length() // n.bit_length())\n",
    "\n",
    "    Ap = [create_number(k, n, c) for k in A]\n",
    "\n",
    "    # Now, count sort them from least to most significant ( L - > R in this case)\n",
    "    r = Ap\n",
    "    for d in range(c):\n",
    "        r = count_sort(r,d)\n",
    "\n",
    "    return r"
   ]
  },
  {
   "cell_type": "code",
   "execution_count": 178,
   "metadata": {},
   "outputs": [],
   "source": [
    "l3 = [17, 3, 24, 22, 12]"
   ]
  },
  {
   "cell_type": "code",
   "execution_count": 179,
   "metadata": {},
   "outputs": [
    {
     "name": "stdout",
     "output_type": "stream",
     "text": [
      "3\n",
      "12\n",
      "17\n",
      "22\n",
      "24\n"
     ]
    }
   ],
   "source": [
    "for n in radix_sort(l3):\n",
    "    print(n.item)"
   ]
  },
  {
   "cell_type": "code",
   "execution_count": 181,
   "metadata": {},
   "outputs": [],
   "source": [
    "l4 = [329, 457, 657, 839, 436, 720, 355]\n",
    "r = radix_sort(l4)"
   ]
  },
  {
   "cell_type": "code",
   "execution_count": 182,
   "metadata": {},
   "outputs": [
    {
     "name": "stdout",
     "output_type": "stream",
     "text": [
      "329\n",
      "355\n",
      "436\n",
      "457\n",
      "657\n",
      "720\n",
      "839\n"
     ]
    }
   ],
   "source": [
    "for i in r:\n",
    "    print(i.item)"
   ]
  },
  {
   "cell_type": "code",
   "execution_count": null,
   "metadata": {},
   "outputs": [],
   "source": []
  }
 ],
 "metadata": {
  "kernelspec": {
   "display_name": "Python 3",
   "language": "python",
   "name": "python3"
  },
  "language_info": {
   "codemirror_mode": {
    "name": "ipython",
    "version": 3
   },
   "file_extension": ".py",
   "mimetype": "text/x-python",
   "name": "python",
   "nbconvert_exporter": "python",
   "pygments_lexer": "ipython3",
   "version": "3.10.8"
  },
  "orig_nbformat": 4,
  "vscode": {
   "interpreter": {
    "hash": "aee8b7b246df8f9039afb4144a1f6fd8d2ca17a180786b69acc140d282b71a49"
   }
  }
 },
 "nbformat": 4,
 "nbformat_minor": 2
}
