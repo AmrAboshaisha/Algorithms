{
 "cells": [
  {
   "cell_type": "markdown",
   "id": "28da60c8",
   "metadata": {},
   "source": [
    "### Problem Session 3"
   ]
  },
  {
   "cell_type": "markdown",
   "id": "4b674f66",
   "metadata": {},
   "source": [
    "At the start of this session, Eric Demaine suggests the general process for solving problems here:\n",
    "\n",
    "1. Convert word problem to concise formal algorithm to achieve.\n",
    "2. Come up with ideas to achieve it.\n",
    "3. Check the details."
   ]
  },
  {
   "cell_type": "markdown",
   "id": "d666cfed",
   "metadata": {},
   "source": [
    "#### Problem 3-2. Hash Sequence"
   ]
  },
  {
   "cell_type": "markdown",
   "id": "cc1e7d72",
   "metadata": {},
   "source": [
    "<span style  = \"color:green\"> Tables are not only useful for implementing Set operations; they can be used to implement Sequences as well! (Recall the Set and Sequence interfaces were defined in Lecture and Recita- tion 02.) Given a hash table, describe how to use it as a black-box1 (using only its Set interface operations) to implement the Sequence interface such that:</span>"
   ]
  },
  {
   "cell_type": "markdown",
   "id": "50b4845e",
   "metadata": {},
   "source": [
    "<span style = \"color:green\"> - build(A) runs in expected O(n) time, </span>"
   ]
  },
  {
   "cell_type": "markdown",
   "id": "aac5e258",
   "metadata": {},
   "source": [
    "<span style  = \"color:green\"> - get at and set at each run in expected O(1) time, </span>"
   ]
  },
  {
   "cell_type": "markdown",
   "id": "4d3b81e6",
   "metadata": {},
   "source": [
    "<span style  = \"color:green\"> - insert at and delete at each run in expected O(n) time, and </span>"
   ]
  },
  {
   "cell_type": "markdown",
   "id": "c3f5af1f",
   "metadata": {},
   "source": [
    "<span style  = \"color:green\">- the four dynamic first/last operations each run in amortized expected O(1) time.</span>"
   ]
  },
  {
   "cell_type": "markdown",
   "id": "3a112bd4",
   "metadata": {},
   "source": [
    "Here, the problem is clear: we need to implement a Sequence using a Set.\n",
    "\n",
    "First thing might be to see operations of both and if there's any natural mapping that is taking place:\n",
    "\n",
    "|Set     |Sequence|\n",
    "|--------|--------|\n",
    "|build O(n)| build O(n)|\n",
    "|find O(1) | get/set at O(1)|\n",
    "| insert/delete O(1)| insert/delete_at O(n)|\n",
    "|                   | insert/delete first/last|\n"
   ]
  },
  {
   "cell_type": "markdown",
   "id": "095fe6e8",
   "metadata": {},
   "source": [
    "Let's think: what are the challenges in this problem?"
   ]
  },
  {
   "cell_type": "markdown",
   "id": "724988a2",
   "metadata": {},
   "source": [
    "We might notice there is a natural mapping between both build operations. For both we're given O(n), so no need to worry about anything here. To build anything we need O(n), that is done."
   ]
  },
  {
   "cell_type": "markdown",
   "id": "8edcdeeb",
   "metadata": {},
   "source": [
    "We can also see that find maps to get/set.\n",
    "\n",
    "For insert / delete at, we're given O(n). When we see O(n), it means we can re-build the whole structure every time we perform the operation.\n",
    "\n",
    "Finally, we have insert/delete first/last in O(1): this is where the challenge might be."
   ]
  },
  {
   "cell_type": "markdown",
   "id": "4db294e0",
   "metadata": {},
   "source": [
    "We also can see that get/set at required for the sequence would map to find in the set. However, find uses a key while get and set use indices. So to make a Sequence using a Set:\n",
    "\n",
    "Idea: We can make indices become keys in the Set (we give indices to the Set so we can use find). Assign keys to items corresponding to their order in the sequence. \n",
    "\n",
    "Now, get_at(i) and set_at(i, x) can be implemented as:\n",
    "\n",
    "```\n",
    "get_at(i):\n",
    "    find(i)\n",
    "```\n",
    "```\n",
    "set_at(i, x): \n",
    "    find(i)\n",
    "    Set[i].value = x\n",
    "```"
   ]
  },
  {
   "cell_type": "markdown",
   "id": "60761b51",
   "metadata": {},
   "source": [
    "And, to build sequence from set:\n",
    "\n",
    "```\n",
    "sequence_build(A):\n",
    "    set_build(<key i, value A[i]> for i in 0,...len(A)-1)\n",
    "```"
   ]
  },
  {
   "cell_type": "markdown",
   "id": "05fdeac5",
   "metadata": {},
   "source": [
    "insert_at / delete_at:\n",
    "\n",
    "Since we're allowed O(n), we can implement these as follows:\n",
    "\n",
    "```\n",
    "insert_at(i, x):\n",
    "- iterate over all items in sequence S\n",
    "- Put each item in an array A in order\n",
    "- Insert or Delete into array (we know how to insert / delete and shift everyhting else)\n",
    "- re-build the sequence using the modified array : call sequence_build(A)\n",
    "\n",
    "```\n",
    "\n",
    "Or, we can do this without using an extra structure via manipulating the keys of the Sequence itself."
   ]
  },
  {
   "cell_type": "markdown",
   "id": "ed80f35f",
   "metadata": {},
   "source": [
    "Finally, we come to inser/delete first/last:\n",
    "\n",
    "insert / delete last is easy: just add a new item with a new key and insert the value.\n",
    "\n",
    "What about insert / delete first?\n",
    "\n",
    "If we started our indices at 0, then inserting becomes challenging if we want to give the new first item index 0; since we'll need to shift all other items. Same if we delete.\n",
    "\n",
    "But, what if we allow use negative ints for the indices, then inserting and deleting become easy enough. The caveat is, we need to keep track of the starting index of the sequence since now it doesn't automatically start at 0.\n",
    "\n",
    "This change means we have to slightly change all our functions.\n",
    "\n",
    "``` \n",
    "sequence starts at s.\n",
    "\n",
    "sequence_build(A):\n",
    "    s = 0\n",
    "    set_build(<key s+i, value A[s+i]> for i in 0,..., len(A)-1) \n",
    "    \n",
    "```\n",
    "\n",
    "\n",
    "Now, get_at(i) and set_at(i, x) can be implemented as:\n",
    "\n",
    "```\n",
    "get_at(s+i):\n",
    "    find(s+i)\n",
    "```\n",
    "```\n",
    "set_at(i, x): \n",
    "    find(s+i)\n",
    "    Set[s+i].value = x\n",
    "```\n",
    "\n",
    "and so on."
   ]
  },
  {
   "cell_type": "markdown",
   "id": "2ed2e1b7",
   "metadata": {},
   "source": [
    "###### NB: a known trick to map -ve , +ve ints to + space:\n",
    "\n",
    "How can we map ints $\\in$ [-n, n] to [0, n]?\n",
    "\n",
    "If infinite values (-n , n not bounded): \n",
    "- Multiply +ve ints by 2\n",
    "- Multiply -ve ints by -2 then add 1\n",
    "\n",
    "0 -> 0\n",
    "\n",
    "1 -> 1 x 2 = 2\n",
    "\n",
    "2 -> 4\n",
    "\n",
    "3 -> 6\n",
    "\n",
    "etc\n",
    "\n",
    "-1 -> -1 x - 2 + 1 = 3\n",
    "\n",
    "-2 -> -2 x -2 + 1 = 5\n",
    "\n",
    "So, we map negatives to even numbers\n",
    "\n",
    "\n",
    "\n",
    "If we have bounded values:\n",
    "\n",
    "just add n to all numbers:\n",
    "\n",
    "[-n, n] --> [0, 2n]"
   ]
  },
  {
   "cell_type": "markdown",
   "id": "d06baccc",
   "metadata": {},
   "source": [
    "#### Problem 3-3. Critter sort"
   ]
  },
  {
   "cell_type": "markdown",
   "id": "63db9d1c",
   "metadata": {},
   "source": [
    "<span style  = \"color:green\">Ashley Getem collects and trains Pocket Critters to fight other Pocket Critters in battle. She has collected n Critters in total, and she keeps track of a variety of statistics for each Critter Ci. Describe efficient algorithms to sort Ashley’s Critters based on each of the following keys:</span>"
   ]
  },
  {
   "cell_type": "markdown",
   "id": "b2ae7950",
   "metadata": {},
   "source": [
    "<span style  = \"color:green\">(a) Species ID: an integer xi between −n and n (negative IDs are grumpy) </span>"
   ]
  },
  {
   "cell_type": "markdown",
   "id": "1e0922a6",
   "metadata": {},
   "source": [
    "<span style  = \"color:green\">(b) Name: a unique string si containing at most 10dlg ne English letters</span>"
   ]
  },
  {
   "cell_type": "markdown",
   "id": "962cf818",
   "metadata": {},
   "source": [
    "<span style  = \"color:green\">(c) Number of fights fought: a positive integer fi under n2</span>"
   ]
  },
  {
   "cell_type": "markdown",
   "id": "d6cd5a5a",
   "metadata": {},
   "source": [
    "<span style  = \"color:green\">(d) Win fraction: ratio wi/fi where wi ≤ fi is the number of fights won</span>"
   ]
  },
  {
   "cell_type": "markdown",
   "id": "38ecb1b0",
   "metadata": {},
   "source": [
    "As always, the first step is to convert the words to abstractions. \n",
    "\n",
    "Here the problem is asking us to sort n items via different keys. We already know sorting algorithms. We should try to see which is the best that works for each case.\n",
    "\n",
    "Our best 2 algorithms so far are:\n",
    "- Merge sort: gives O(n log n). Works for any problem.\n",
    "- Radix sort: gives O(n) under certain conditions. "
   ]
  },
  {
   "cell_type": "markdown",
   "id": "6d701541",
   "metadata": {},
   "source": [
    "So, let's see:\n",
    "\n",
    "For ints $\\in$ [-n, n] :\n",
    "\n",
    "```\n",
    "Convert these to +ve ints from 0 to n by adding + n\n",
    "Use Radix sort\n",
    "```"
   ]
  },
  {
   "cell_type": "markdown",
   "id": "7bc632f3",
   "metadata": {},
   "source": [
    "For strings over 26 letters of length 10$\\lceil log n \\rceil$  "
   ]
  },
  {
   "cell_type": "markdown",
   "id": "dd816e16",
   "metadata": {},
   "source": [
    "#### Problem 3-4. College Construction"
   ]
  },
  {
   "cell_type": "markdown",
   "id": "b9d225db",
   "metadata": {},
   "source": [
    "<span style  = \"color:green\">MIT has employed Gank Frehry to build a new wing of the Stata Center to house the new College of Computing. MIT wants the new building be as tall as possible, but Cambridge zoning laws limit all new buildings to be no higher than positive integer height h. As an innovative architect, Frehry has decided to build the new wing by stacking two giant aluminum cubes on top of each other, into which rooms will be carved. However, Frehry’s supplier of aluminum cubes can only make cubes with a limited set of positive integer side lengths S = {s0, . . . , sn−1}. Help Frehry purchase cubes for the new building.</span>"
   ]
  },
  {
   "cell_type": "markdown",
   "id": "4b1e75ec",
   "metadata": {},
   "source": [
    "<span style  = \"color:green\">(a) Assuming the input S fits within Θ(n) machine words, describe an expected O(n)- time algorithm to determine whether there exist a pair of side lengths in S that exactly sum to h.</span>"
   ]
  },
  {
   "cell_type": "markdown",
   "id": "4aa579e9",
   "metadata": {},
   "source": [
    "<span style  = \"color:green\">(b) Unfortunately for Frehry, there is no pair of side lengths in S that sum exactly to h. Assuming that h = 600n6, describe a worst-case O(n)-time algorithm to return a pair of side lengths in S whose sum is closest to h without going over.</span>"
   ]
  },
  {
   "cell_type": "markdown",
   "id": "dca19ce5",
   "metadata": {},
   "source": [
    "#### Problem 3-5. Po-k-er Hands"
   ]
  },
  {
   "cell_type": "markdown",
   "id": "356549e0",
   "metadata": {},
   "source": [
    "<span style  = \"color:green\">Meff Ja is a card shark who enjoys playing card games. He has found an unusual deck of cards, where each of the n cards in the deck is marked with a lowercase letter from the 26-character English alphabet. We represent a deck of cards as a sequence of letters, where the first letter corresponds to the top of the deck. Meff wants to play a game of Po-k-er with you. To begin the game, he deals you a Po-k-er hand of k cards in the following way:</span>\n",
    "\n",
    "1. The deck D starts in a pile face down in a known order.\n",
    "2. Meff cuts the deck uniformly at random at some location i ∈ {0, . . . , n − 1}, i.e., move the top i cards in order to the bottom of the deck.\n",
    "3. Meff then deals you the top k cards from the top of the cut deck.\n",
    "4. You sort your k cards alphabetically, resulting in your Po-k-er hand.\n",
    "\n",
    "<span style  = \"color:green\">\n",
    "Let P(D,i,k) be the Po-k-er hand resulting from cutting a deck D at location i. Then cutting deck D = ’abcdbc’ at location 2 would result in the deck ’cdbcab’, which would then yield the Po-4-er hand P(D,2,4) = ’bccd’. From a given starting deck, many hands are possible depending on where the deck is cut. Meff wants to know the most likely Po-k-er hand for a given deck. Given that the most likely Po-k-er hand is not necessarily unique, Meff always prefers the lexicographically smallest hand.</span>"
   ]
  },
  {
   "cell_type": "markdown",
   "id": "e5594eac",
   "metadata": {},
   "source": [
    "<span style  = \"color:green\">(a) Describe a data structure that can be built in O(n) time from a deck D of n cards and integer k, after which it can support same(i, j): a constant-time operation which returns True if P (D, i, k) = P (D, j, k) and False otherwise.</span>"
   ]
  },
  {
   "cell_type": "markdown",
   "id": "45245457",
   "metadata": {},
   "source": [
    "<span style  = \"color:green\">(b) Given a deck of n cards,describe an O(n)-time algorithm to find the most likely Po-k- er hand, breaking ties lexicographically. State whether your algorithm’s running time is worst-case, amortized, and/or expected.</span>"
   ]
  },
  {
   "cell_type": "code",
   "execution_count": null,
   "id": "bcb114b2",
   "metadata": {},
   "outputs": [],
   "source": []
  }
 ],
 "metadata": {
  "kernelspec": {
   "display_name": "Python 3 (ipykernel)",
   "language": "python",
   "name": "python3"
  },
  "language_info": {
   "codemirror_mode": {
    "name": "ipython",
    "version": 3
   },
   "file_extension": ".py",
   "mimetype": "text/x-python",
   "name": "python",
   "nbconvert_exporter": "python",
   "pygments_lexer": "ipython3",
   "version": "3.8.8"
  }
 },
 "nbformat": 4,
 "nbformat_minor": 5
}
